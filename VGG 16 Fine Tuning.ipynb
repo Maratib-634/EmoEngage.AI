{
  "cells": [
    {
      "cell_type": "code",
      "execution_count": 1,
      "metadata": {
        "id": "I_5SGGrZz0VN"
      },
      "outputs": [],
      "source": [
        "import os\n",
        "os.environ['KMP_DUPLICATE_LIB_OK'] = 'TRUE'\n",
        "\n",
        "from keras.preprocessing import image\n",
        "from keras.applications import InceptionResNetV2\n",
        "from keras.models import Sequential, load_model\n",
        "from keras.layers import Dense, GlobalAveragePooling2D\n",
        "from keras.optimizers import Adam\n",
        "from keras.preprocessing.image import ImageDataGenerator\n",
        "import numpy as np\n",
        "\n",
        "# Function to preprocess images\n",
        "def preprocess_image(img_path, target_size=(224, 224)):\n",
        "    img = image.load_img(img_path, target_size=target_size)\n",
        "    img_array = image.img_to_array(img)\n",
        "    img_array = np.expand_dims(img_array, axis=0)\n",
        "    img_array /= 255.0  # Normalize pixel values to between 0 and 1\n",
        "    return img_array\n"
      ]
    },
    {
      "cell_type": "code",
      "execution_count": 2,
      "metadata": {
        "colab": {
          "base_uri": "https://localhost:8080/"
        },
        "id": "ywBX0mvvz-Gy",
        "outputId": "ddeca806-6bff-42fe-b5d0-ae10d0c37391"
      },
      "outputs": [
        {
          "output_type": "stream",
          "name": "stdout",
          "text": [
            "Mounted at /content/drive\n"
          ]
        }
      ],
      "source": [
        "from google.colab import drive\n",
        "import zipfile\n",
        "import os\n",
        "\n",
        "# Mount Google Drive\n",
        "drive.mount('/content/drive')"
      ]
    },
    {
      "cell_type": "code",
      "execution_count": 27,
      "metadata": {
        "id": "kvX04QVBOkGP"
      },
      "outputs": [],
      "source": [
        "# Paths\n",
        "zip_file_path = '/content/drive/MyDrive/Emotions.zip'\n",
        "extracted_folder_path = '/content/drive/MyDrive/Emotion/'\n",
        "\n",
        "# Extract the 'archive' folder\n",
        "with zipfile.ZipFile(zip_file_path, 'r') as zip_ref:\n",
        "    zip_ref.extractall(extracted_folder_path)"
      ]
    },
    {
      "cell_type": "code",
      "execution_count": 29,
      "metadata": {
        "id": "joNGXUNDF1H3"
      },
      "outputs": [],
      "source": [
        "# Update data directories\n",
        "extracted_folder_path = '/content/drive/MyDrive/Emotion/Emotions'\n",
        "\n",
        "train_data_dir = os.path.join(extracted_folder_path, 'train')\n",
        "test_data_dir = os.path.join(extracted_folder_path, 'test')\n"
      ]
    },
    {
      "cell_type": "code",
      "execution_count": 30,
      "metadata": {
        "colab": {
          "base_uri": "https://localhost:8080/"
        },
        "id": "DPGzdToGHcw-",
        "outputId": "0e9a4a2f-abf6-4a77-a8bd-c3d7e6d40085"
      },
      "outputs": [
        {
          "output_type": "stream",
          "name": "stdout",
          "text": [
            "Found 15351 images belonging to 3 classes.\n",
            "Found 3838 images belonging to 3 classes.\n",
            "Class names: ['happy', 'neutral', 'surprise']\n"
          ]
        }
      ],
      "source": [
        "from tensorflow.keras.preprocessing.image import ImageDataGenerator\n",
        "\n",
        "# Set up data generators\n",
        "train_datagen = ImageDataGenerator(rescale=1./255)\n",
        "test_datagen = ImageDataGenerator(rescale=1./255)\n",
        "\n",
        "# Create generators\n",
        "train_generator = train_datagen.flow_from_directory(\n",
        "    train_data_dir,\n",
        "    target_size=(224, 224),\n",
        "    batch_size=128,\n",
        "    class_mode='categorical'  # Specify the class mode\n",
        ")\n",
        "\n",
        "validation_generator = test_datagen.flow_from_directory(\n",
        "    test_data_dir,\n",
        "    target_size=(224, 224),\n",
        "    batch_size=128,\n",
        "    class_mode='categorical'  # Specify the class mode\n",
        ")\n",
        "\n",
        "# Get the class indices (mapping of class names to indices)\n",
        "class_indices = train_generator.class_indices\n",
        "\n",
        "# Reverse the mapping to get class names\n",
        "class_names = list(class_indices.keys())\n",
        "\n",
        "# Print or use class names as needed\n",
        "print(\"Class names:\", class_names)\n"
      ]
    },
    {
      "cell_type": "markdown",
      "source": [
        "Pre Trained Model"
      ],
      "metadata": {
        "id": "_izWB6t4jcwe"
      }
    },
    {
      "cell_type": "code",
      "source": [
        "from keras.applications import VGG16\n",
        "\n",
        "# Load the pre-trained VGG16 model\n",
        "conv_base = VGG16(weights='imagenet',\n",
        "                 include_top=False,\n",
        "                 input_shape=(224, 224, 3))\n",
        "\n",
        "# Get the number of layers\n",
        "num_layers = len(conv_base.layers)\n",
        "print(\"Number of layers in the VGG16 model:\", num_layers)\n",
        "\n",
        "# Freeze layers up to a certain point\n",
        "for layer in conv_base.layers[:-4]:\n",
        "    layer.trainable = False\n"
      ],
      "metadata": {
        "id": "N_EiO19SiZn8",
        "colab": {
          "base_uri": "https://localhost:8080/"
        },
        "outputId": "1d99608f-f043-4625-ba60-03a6d6584f45"
      },
      "execution_count": 32,
      "outputs": [
        {
          "output_type": "stream",
          "name": "stdout",
          "text": [
            "Number of layers in the VGG16 model: 19\n"
          ]
        }
      ]
    },
    {
      "cell_type": "code",
      "source": [
        "# Print the status of each layer\n",
        "for i, layer in enumerate(conv_base.layers):\n",
        "    print(f\"Layer {i}: {layer.name} - Trainable: {layer.trainable}\")"
      ],
      "metadata": {
        "colab": {
          "base_uri": "https://localhost:8080/"
        },
        "id": "eWc0HiWkZY2h",
        "outputId": "a651b7d9-3946-4c91-dab0-ec031c6566f8"
      },
      "execution_count": 33,
      "outputs": [
        {
          "output_type": "stream",
          "name": "stdout",
          "text": [
            "Layer 0: input_3 - Trainable: False\n",
            "Layer 1: block1_conv1 - Trainable: False\n",
            "Layer 2: block1_conv2 - Trainable: False\n",
            "Layer 3: block1_pool - Trainable: False\n",
            "Layer 4: block2_conv1 - Trainable: False\n",
            "Layer 5: block2_conv2 - Trainable: False\n",
            "Layer 6: block2_pool - Trainable: False\n",
            "Layer 7: block3_conv1 - Trainable: False\n",
            "Layer 8: block3_conv2 - Trainable: False\n",
            "Layer 9: block3_conv3 - Trainable: False\n",
            "Layer 10: block3_pool - Trainable: False\n",
            "Layer 11: block4_conv1 - Trainable: False\n",
            "Layer 12: block4_conv2 - Trainable: False\n",
            "Layer 13: block4_conv3 - Trainable: False\n",
            "Layer 14: block4_pool - Trainable: False\n",
            "Layer 15: block5_conv1 - Trainable: True\n",
            "Layer 16: block5_conv2 - Trainable: True\n",
            "Layer 17: block5_conv3 - Trainable: True\n",
            "Layer 18: block5_pool - Trainable: True\n"
          ]
        }
      ]
    },
    {
      "cell_type": "code",
      "source": [
        "from keras import models\n",
        "from keras import layers\n",
        "\n",
        "model = models.Sequential()\n",
        "\n",
        "model.add(conv_base)\n",
        "model.add(layers.Flatten())\n",
        "model.add(layers.Dense(128, activation='relu'))\n",
        "model.add(layers.Dense(3, activation='softmax'))\n",
        "model.summary()"
      ],
      "metadata": {
        "id": "omyDG47_jvpm",
        "outputId": "92c0de2f-c0d3-411f-9d06-e70bf05575a0",
        "colab": {
          "base_uri": "https://localhost:8080/"
        }
      },
      "execution_count": 36,
      "outputs": [
        {
          "output_type": "stream",
          "name": "stdout",
          "text": [
            "Model: \"sequential_2\"\n",
            "_________________________________________________________________\n",
            " Layer (type)                Output Shape              Param #   \n",
            "=================================================================\n",
            " vgg16 (Functional)          (None, 7, 7, 512)         14714688  \n",
            "                                                                 \n",
            " flatten_2 (Flatten)         (None, 25088)             0         \n",
            "                                                                 \n",
            " dense_4 (Dense)             (None, 128)               3211392   \n",
            "                                                                 \n",
            " dense_5 (Dense)             (None, 3)                 387       \n",
            "                                                                 \n",
            "=================================================================\n",
            "Total params: 17926467 (68.38 MB)\n",
            "Trainable params: 3211779 (12.25 MB)\n",
            "Non-trainable params: 14714688 (56.13 MB)\n",
            "_________________________________________________________________\n"
          ]
        }
      ]
    },
    {
      "cell_type": "code",
      "source": [
        "from keras import losses, optimizers, metrics\n",
        "from keras.callbacks import EarlyStopping\n",
        "\n",
        "# Set the convolutional base to non-trainable\n",
        "conv_base.trainable = False\n",
        "print('This is the number of trainable weights before freezing the conv base:', len(model.trainable_weights))\n",
        "\n",
        "# Compile the model\n",
        "model.compile(\n",
        "    optimizer=optimizers.Adam(learning_rate=0.001),\n",
        "    loss=losses.categorical_crossentropy,\n",
        "    metrics=[metrics.categorical_accuracy]\n",
        ")\n",
        "\n",
        "# Define EarlyStopping callback\n",
        "early_stopping = EarlyStopping(monitor='val_loss', patience=3, restore_best_weights=True)\n",
        "\n",
        "# Train the model with early stopping\n",
        "history = model.fit(\n",
        "    train_generator,\n",
        "    epochs=20,\n",
        "    validation_data=validation_generator,\n",
        "    callbacks=[early_stopping]\n",
        ")\n"
      ],
      "metadata": {
        "id": "BIff29u9jwGW",
        "outputId": "57cd09f0-86ff-4e86-ae79-b7f6074d0fd9",
        "colab": {
          "base_uri": "https://localhost:8080/"
        }
      },
      "execution_count": 37,
      "outputs": [
        {
          "output_type": "stream",
          "name": "stdout",
          "text": [
            "This is the number of trainable weights before freezing the conv base: 4\n",
            "Epoch 1/20\n",
            "120/120 [==============================] - 130s 1s/step - loss: 1.1332 - categorical_accuracy: 0.5986 - val_loss: 0.6221 - val_categorical_accuracy: 0.7493\n",
            "Epoch 2/20\n",
            "120/120 [==============================] - 85s 705ms/step - loss: 0.5569 - categorical_accuracy: 0.7796 - val_loss: 0.5522 - val_categorical_accuracy: 0.7791\n",
            "Epoch 3/20\n",
            "120/120 [==============================] - 81s 669ms/step - loss: 0.4816 - categorical_accuracy: 0.8138 - val_loss: 0.4999 - val_categorical_accuracy: 0.8038\n",
            "Epoch 4/20\n",
            "120/120 [==============================] - 81s 672ms/step - loss: 0.4402 - categorical_accuracy: 0.8273 - val_loss: 0.4883 - val_categorical_accuracy: 0.8007\n",
            "Epoch 5/20\n",
            "120/120 [==============================] - 82s 685ms/step - loss: 0.4092 - categorical_accuracy: 0.8422 - val_loss: 0.5300 - val_categorical_accuracy: 0.7811\n",
            "Epoch 6/20\n",
            "120/120 [==============================] - 86s 712ms/step - loss: 0.3699 - categorical_accuracy: 0.8624 - val_loss: 0.4862 - val_categorical_accuracy: 0.8082\n",
            "Epoch 7/20\n",
            "120/120 [==============================] - 81s 674ms/step - loss: 0.3427 - categorical_accuracy: 0.8746 - val_loss: 0.4892 - val_categorical_accuracy: 0.7983\n",
            "Epoch 8/20\n",
            "120/120 [==============================] - 81s 672ms/step - loss: 0.3125 - categorical_accuracy: 0.8851 - val_loss: 0.4924 - val_categorical_accuracy: 0.8088\n",
            "Epoch 9/20\n",
            "120/120 [==============================] - 81s 673ms/step - loss: 0.2904 - categorical_accuracy: 0.8968 - val_loss: 0.4694 - val_categorical_accuracy: 0.8145\n",
            "Epoch 10/20\n",
            "120/120 [==============================] - 85s 706ms/step - loss: 0.2619 - categorical_accuracy: 0.9102 - val_loss: 0.5846 - val_categorical_accuracy: 0.7785\n",
            "Epoch 11/20\n",
            "120/120 [==============================] - 81s 670ms/step - loss: 0.2694 - categorical_accuracy: 0.8998 - val_loss: 0.4756 - val_categorical_accuracy: 0.8147\n",
            "Epoch 12/20\n",
            "120/120 [==============================] - 81s 673ms/step - loss: 0.2286 - categorical_accuracy: 0.9210 - val_loss: 0.4825 - val_categorical_accuracy: 0.8150\n"
          ]
        }
      ]
    },
    {
      "cell_type": "code",
      "source": [
        "import matplotlib.pyplot as plt\n",
        "\n",
        "acc = history.history['categorical_accuracy']\n",
        "val_acc = history.history['val_categorical_accuracy']\n",
        "loss = history.history['loss']\n",
        "val_loss = history.history['val_loss']\n",
        "\n",
        "epochs = range(1, len(acc)+1)\n",
        "\n",
        "plt.plot(epochs, acc, dashes=[2, 2, 10, 2], label='Training acc')\n",
        "plt.plot(epochs, val_acc, 'g', label='Validation acc')\n",
        "plt.title('Training and validation accuracy')\n",
        "plt.legend()\n",
        "\n",
        "plt.figure()\n",
        "plt.plot(epochs, loss, dashes=[2, 2, 10, 2], label='Training losses')\n",
        "plt.plot(epochs, val_loss, 'g', label='Validation losses')\n",
        "plt.title('Training and validation loss')\n",
        "plt.legend()\n",
        "\n",
        "plt.show()"
      ],
      "metadata": {
        "id": "CRpxAJS6j4HC",
        "outputId": "7c1d42d5-28a4-4e0a-d0d1-ae2df46fe993",
        "colab": {
          "base_uri": "https://localhost:8080/",
          "height": 887
        }
      },
      "execution_count": 38,
      "outputs": [
        {
          "output_type": "display_data",
          "data": {
            "text/plain": [
              "<Figure size 640x480 with 1 Axes>"
            ],
            "image/png": "[encoded data removed]"
          },
          "metadata": {}
        },
        {
          "output_type": "display_data",
          "data": {
            "text/plain": [
              "<Figure size 640x480 with 1 Axes>"
            ],
            "image/png": "[encoded data removed]"
          },
          "metadata": {}
        }
      ]
    },
    {
      "cell_type": "code",
      "source": [
        "model.save('/content/drive/MyDrive/Model/FacialEmotion2.h5')"
      ],
      "metadata": {
        "id": "fhCjkhVoj4MK",
        "colab": {
          "base_uri": "https://localhost:8080/"
        },
        "outputId": "b8a78146-454b-4d7b-cee7-b144ba412d6a"
      },
      "execution_count": 44,
      "outputs": [
        {
          "output_type": "stream",
          "name": "stderr",
          "text": [
            "/usr/local/lib/python3.10/dist-packages/keras/src/engine/training.py:3103: UserWarning: You are saving your model as an HDF5 file via `model.save()`. This file format is considered legacy. We recommend using instead the native Keras format, e.g. `model.save('my_model.keras')`.\n",
            "  saving_api.save_model(\n"
          ]
        }
      ]
    },
    {
      "cell_type": "code",
      "source": [
        "from keras.models import load_model\n",
        "emotion_model = load_model('/content/drive/MyDrive/Model/FacialEmotion2.h5')"
      ],
      "metadata": {
        "id": "Kmd7li7Wj72D"
      },
      "execution_count": 42,
      "outputs": []
    },
    {
      "cell_type": "code",
      "source": [
        "emotion_model.summary()"
      ],
      "metadata": {
        "colab": {
          "base_uri": "https://localhost:8080/"
        },
        "id": "y-tvx65U7_NK",
        "outputId": "86a0d626-f901-45da-8913-c114408dae31"
      },
      "execution_count": 43,
      "outputs": [
        {
          "output_type": "stream",
          "name": "stdout",
          "text": [
            "Model: \"sequential_2\"\n",
            "_________________________________________________________________\n",
            " Layer (type)                Output Shape              Param #   \n",
            "=================================================================\n",
            " vgg16 (Functional)          (None, 7, 7, 512)         14714688  \n",
            "                                                                 \n",
            " flatten_2 (Flatten)         (None, 25088)             0         \n",
            "                                                                 \n",
            " dense_4 (Dense)             (None, 128)               3211392   \n",
            "                                                                 \n",
            " dense_5 (Dense)             (None, 3)                 387       \n",
            "                                                                 \n",
            "=================================================================\n",
            "Total params: 17926467 (68.38 MB)\n",
            "Trainable params: 3211779 (12.25 MB)\n",
            "Non-trainable params: 14714688 (56.13 MB)\n",
            "_________________________________________________________________\n"
          ]
        }
      ]
    },
    {
      "cell_type": "markdown",
      "source": [
        "Calculating Accuracy"
      ],
      "metadata": {
        "id": "PQR2h36fj-CC"
      }
    }
  ],
  "metadata": {
    "accelerator": "GPU",
    "colab": {
      "provenance": []
    },
    "kernelspec": {
      "display_name": "Python 3",
      "name": "python3"
    },
    "language_info": {
      "name": "python"
    }
  },
  "nbformat": 4,
  "nbformat_minor": 0
}